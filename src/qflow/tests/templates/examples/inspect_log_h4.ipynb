{
 "cells": [
  {
   "cell_type": "code",
   "execution_count": 1,
   "metadata": {},
   "outputs": [
    {
     "data": {
      "text/plain": [
       "'/Users/davidfitzek/git/qflow-opt-scripts/libs/qflow'"
      ]
     },
     "execution_count": 1,
     "metadata": {},
     "output_type": "execute_result"
    }
   ],
   "source": [
    "import os\n",
    "\n",
    "os.chdir(\"../../../../..\")\n",
    "%pwd"
   ]
  },
  {
   "cell_type": "code",
   "execution_count": 2,
   "metadata": {},
   "outputs": [
    {
     "name": "stderr",
     "output_type": "stream",
     "text": [
      "/Users/davidfitzek/miniforge3/envs/qflow/lib/python3.10/site-packages/beartype/_util/hint/pep/utilpeptest.py:345: BeartypeDecorHintPep585DeprecationWarning: PEP 484 type hint typing.List deprecated by PEP 585 scheduled for removal in the first Python version released after October 5th, 2025. To resolve this, import this hint from \"beartype.typing\" rather than \"typing\". See this discussion for further details and alternatives:\n",
      "    https://github.com/beartype/beartype#pep-585-deprecations\n",
      "  warn(\n"
     ]
    }
   ],
   "source": [
    "import pandas as pd\n",
    "import yaml\n",
    "from qflow.utils.path import Path"
   ]
  },
  {
   "attachments": {},
   "cell_type": "markdown",
   "metadata": {},
   "source": [
    "### Load the csv file"
   ]
  },
  {
   "cell_type": "code",
   "execution_count": 3,
   "metadata": {},
   "outputs": [],
   "source": [
    "num_layers = 2\n",
    "path = Path(\n",
    "    [\n",
    "        \"resources\",\n",
    "        \"test_logs\",\n",
    "        \"h4\",\n",
    "        \"num_qubits_8\",\n",
    "        f\"num_layers_{num_layers}\",\n",
    "        \"use_hf_params_False\",\n",
    "        \"h4_1\",\n",
    "    ]\n",
    ")"
   ]
  },
  {
   "cell_type": "code",
   "execution_count": 4,
   "metadata": {},
   "outputs": [
    {
     "ename": "FileNotFoundError",
     "evalue": "[Errno 2] No such file or directory: '/Users/davidfitzek/git/qflow-opt-scripts/libs/qflow/resources/test_logs/h4/num_qubits_8/num_layers_2/use_hf_params_False/h4_1/config.yaml'",
     "output_type": "error",
     "traceback": [
      "\u001b[0;31m---------------------------------------------------------------------------\u001b[0m",
      "\u001b[0;31mFileNotFoundError\u001b[0m                         Traceback (most recent call last)",
      "Cell \u001b[0;32mIn [4], line 1\u001b[0m\n\u001b[0;32m----> 1\u001b[0m \u001b[39mwith\u001b[39;00m \u001b[39mopen\u001b[39;49m(\u001b[39mf\u001b[39;49m\u001b[39m\"\u001b[39;49m\u001b[39m{\u001b[39;49;00mpath\u001b[39m}\u001b[39;49;00m\u001b[39m/config.yaml\u001b[39;49m\u001b[39m\"\u001b[39;49m, \u001b[39m\"\u001b[39;49m\u001b[39mr\u001b[39;49m\u001b[39m\"\u001b[39;49m) \u001b[39mas\u001b[39;00m f:\n\u001b[1;32m      2\u001b[0m     config \u001b[39m=\u001b[39m yaml\u001b[39m.\u001b[39mload(f, Loader\u001b[39m=\u001b[39myaml\u001b[39m.\u001b[39mFullLoader)\n\u001b[1;32m      3\u001b[0m \u001b[39mprint\u001b[39m(config)\n",
      "\u001b[0;31mFileNotFoundError\u001b[0m: [Errno 2] No such file or directory: '/Users/davidfitzek/git/qflow-opt-scripts/libs/qflow/resources/test_logs/h4/num_qubits_8/num_layers_2/use_hf_params_False/h4_1/config.yaml'"
     ]
    }
   ],
   "source": [
    "with open(f\"{path}/config.yaml\", \"r\") as f:\n",
    "    config = yaml.load(f, Loader=yaml.FullLoader)\n",
    "print(config)"
   ]
  },
  {
   "cell_type": "code",
   "execution_count": null,
   "metadata": {},
   "outputs": [
    {
     "data": {
      "text/html": [
       "<div>\n",
       "<style scoped>\n",
       "    .dataframe tbody tr th:only-of-type {\n",
       "        vertical-align: middle;\n",
       "    }\n",
       "\n",
       "    .dataframe tbody tr th {\n",
       "        vertical-align: top;\n",
       "    }\n",
       "\n",
       "    .dataframe thead th {\n",
       "        text-align: right;\n",
       "    }\n",
       "</style>\n",
       "<table border=\"1\" class=\"dataframe\">\n",
       "  <thead>\n",
       "    <tr style=\"text-align: right;\">\n",
       "      <th></th>\n",
       "      <th>Unnamed: 0</th>\n",
       "      <th>step</th>\n",
       "      <th>exp_val</th>\n",
       "      <th>optimizer</th>\n",
       "      <th>average</th>\n",
       "      <th>num_circuit_evaluations</th>\n",
       "      <th>params</th>\n",
       "    </tr>\n",
       "  </thead>\n",
       "  <tbody>\n",
       "    <tr>\n",
       "      <th>0</th>\n",
       "      <td>0</td>\n",
       "      <td>0</td>\n",
       "      <td>-1.817263</td>\n",
       "      <td>Ground state</td>\n",
       "      <td>0</td>\n",
       "      <td>0</td>\n",
       "      <td>[]</td>\n",
       "    </tr>\n",
       "    <tr>\n",
       "      <th>1</th>\n",
       "      <td>1</td>\n",
       "      <td>1</td>\n",
       "      <td>-1.817263</td>\n",
       "      <td>Ground state</td>\n",
       "      <td>0</td>\n",
       "      <td>100</td>\n",
       "      <td>[]</td>\n",
       "    </tr>\n",
       "    <tr>\n",
       "      <th>2</th>\n",
       "      <td>2</td>\n",
       "      <td>2</td>\n",
       "      <td>-1.817263</td>\n",
       "      <td>Ground state</td>\n",
       "      <td>0</td>\n",
       "      <td>200</td>\n",
       "      <td>[]</td>\n",
       "    </tr>\n",
       "    <tr>\n",
       "      <th>3</th>\n",
       "      <td>3</td>\n",
       "      <td>3</td>\n",
       "      <td>-1.817263</td>\n",
       "      <td>Ground state</td>\n",
       "      <td>0</td>\n",
       "      <td>300</td>\n",
       "      <td>[]</td>\n",
       "    </tr>\n",
       "    <tr>\n",
       "      <th>4</th>\n",
       "      <td>4</td>\n",
       "      <td>4</td>\n",
       "      <td>-1.817263</td>\n",
       "      <td>Ground state</td>\n",
       "      <td>0</td>\n",
       "      <td>400</td>\n",
       "      <td>[]</td>\n",
       "    </tr>\n",
       "  </tbody>\n",
       "</table>\n",
       "</div>"
      ],
      "text/plain": [
       "   Unnamed: 0  step   exp_val     optimizer  average  num_circuit_evaluations  \\\n",
       "0           0     0 -1.817263  Ground state        0                        0   \n",
       "1           1     1 -1.817263  Ground state        0                      100   \n",
       "2           2     2 -1.817263  Ground state        0                      200   \n",
       "3           3     3 -1.817263  Ground state        0                      300   \n",
       "4           4     4 -1.817263  Ground state        0                      400   \n",
       "\n",
       "  params  \n",
       "0     []  \n",
       "1     []  \n",
       "2     []  \n",
       "3     []  \n",
       "4     []  "
      ]
     },
     "execution_count": 5,
     "metadata": {},
     "output_type": "execute_result"
    }
   ],
   "source": [
    "df = pd.read_csv(f\"{path}/data.csv\")\n",
    "df.head()"
   ]
  },
  {
   "attachments": {},
   "cell_type": "markdown",
   "metadata": {},
   "source": [
    "### Find min exp val\n",
    "\n",
    "We group the df by optimizer and search for the minimum exp_val. We also store the params and optimizer name for each minimum value. "
   ]
  },
  {
   "cell_type": "code",
   "execution_count": null,
   "metadata": {},
   "outputs": [
    {
     "name": "stdout",
     "output_type": "stream",
     "text": [
      "AdamOptimizer -0.4166362797510073\n",
      "Ground state -1.8172626605878184\n",
      "QBroydenAdamOptimizer -1.4134254283493422\n",
      "QBroydenOptimizer -1.4038661684580582\n",
      "QNG2Optimizer -0.4166362797510017\n"
     ]
    }
   ],
   "source": [
    "# group the dataframe by the \"optimizer\" column\n",
    "df_grouped = df.groupby(\"optimizer\")\n",
    "# get the index of the rows with the minimum \"value\" for each group\n",
    "min_index = df_grouped[\"exp_val\"].idxmin()\n",
    "# get the rows with the minimum \"value\" for each group\n",
    "min_values = df.loc[min_index]\n",
    "\n",
    "list_optimizer = []\n",
    "list_params = []\n",
    "list_exp_val = []\n",
    "for i, row in min_values.iterrows():\n",
    "    print(row[\"optimizer\"], row[\"exp_val\"])\n",
    "    # print(row[\"params\"])\n",
    "    list_params.append(row[\"params\"])\n",
    "    list_optimizer.append(row[\"optimizer\"])\n",
    "    list_exp_val.append(row[\"exp_val\"])"
   ]
  },
  {
   "attachments": {},
   "cell_type": "markdown",
   "metadata": {},
   "source": [
    "### Run the circuit with the correct params and verify result "
   ]
  },
  {
   "cell_type": "code",
   "execution_count": null,
   "metadata": {},
   "outputs": [
    {
     "name": "stderr",
     "output_type": "stream",
     "text": [
      "/Users/davidfitzek/miniforge3/envs/qflow/lib/python3.10/site-packages/beartype/_util/hint/pep/utilpeptest.py:345: BeartypeDecorHintPep585DeprecationWarning: PEP 484 type hint typing.Tuple[numpy.ndarray, numpy.ndarray] deprecated by PEP 585 scheduled for removal in the first Python version released after October 5th, 2025. To resolve this, import this hint from \"beartype.typing\" rather than \"typing\". See this discussion for further details and alternatives:\n",
      "    https://github.com/beartype/beartype#pep-585-deprecations\n",
      "  warn(\n"
     ]
    }
   ],
   "source": [
    "from qflow.templates.examples import h4_vqe_circuit\n",
    "import pennylane as qml\n",
    "import numpy as np"
   ]
  },
  {
   "cell_type": "code",
   "execution_count": null,
   "metadata": {},
   "outputs": [
    {
     "name": "stdout",
     "output_type": "stream",
     "text": [
      "converged SCF energy = -1.78094876341636\n"
     ]
    }
   ],
   "source": [
    "circuit = h4_vqe_circuit(num_layers=num_layers)\n",
    "params = circuit.init()"
   ]
  },
  {
   "cell_type": "code",
   "execution_count": null,
   "metadata": {},
   "outputs": [
    {
     "name": "stdout",
     "output_type": "stream",
     "text": [
      "AdamOptimizer: -0.417 from previous simulation: -0.417\n",
      "QBroydenAdamOptimizer: -1.413 from previous simulation: -1.413\n",
      "QBroydenOptimizer: -1.404 from previous simulation: -1.404\n",
      "QNG2Optimizer: -0.417 from previous simulation: -0.417\n"
     ]
    }
   ],
   "source": [
    "# sanity check\n",
    "dev = qml.device(\"default.qubit\", wires=circuit.wires)\n",
    "\n",
    "\n",
    "@qml.qnode(dev)\n",
    "def fun(x):\n",
    "    circuit(x)\n",
    "    return qml.expval(circuit.H)\n",
    "\n",
    "\n",
    "for params, optimizer, exp_val_ground_truth in zip(\n",
    "    list_params, list_optimizer, list_exp_val\n",
    "):\n",
    "    params = params.replace(\"[\", \"\").replace(\"]\", \"\").split()\n",
    "    params = [float(param) for param in params]\n",
    "    if len(params) == 0:\n",
    "        continue\n",
    "\n",
    "    exp_val = fun(params)\n",
    "    print(\n",
    "        f\"{optimizer}: {np.round(exp_val, 3)} from previous simulation: {np.round(exp_val_ground_truth, 3)}\"\n",
    "    )\n",
    "    # check that exp_val is close to exp_val_ground_truth\n",
    "    assert np.isclose(exp_val, exp_val_ground_truth, atol=1e-1)"
   ]
  },
  {
   "cell_type": "code",
   "execution_count": null,
   "metadata": {},
   "outputs": [],
   "source": []
  }
 ],
 "metadata": {
  "kernelspec": {
   "display_name": "qflow",
   "language": "python",
   "name": "python3"
  },
  "language_info": {
   "codemirror_mode": {
    "name": "ipython",
    "version": 3
   },
   "file_extension": ".py",
   "mimetype": "text/x-python",
   "name": "python",
   "nbconvert_exporter": "python",
   "pygments_lexer": "ipython3",
   "version": "3.10.6"
  },
  "orig_nbformat": 4,
  "vscode": {
   "interpreter": {
    "hash": "23a1192c541ab84f6bb8596ddf275e4ffe2afe306cc45b2153ee66ad959326f6"
   }
  }
 },
 "nbformat": 4,
 "nbformat_minor": 2
}
