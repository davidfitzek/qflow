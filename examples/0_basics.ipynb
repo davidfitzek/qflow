{
 "cells": [
  {
   "attachments": {},
   "cell_type": "markdown",
   "metadata": {},
   "source": [
    "# Introduction\n",
    "\n",
    "In this tutorial, we introduce the qflow package and its building blocks to optimize a variational quantum circuit. We start by loading a Hamiltonian that represents the objective function we want to minimize. We use the molecular Hamiltonians for our examples. We also select a circuit template from the package, and for demonstration purposes, we chose the MolecularBasicEntangler ansatz. Then we will see how we can minimize the energy of the molecule by optimizing the circuit parameters. We will also see how we can use the package to generate a circuit diagram of the ansatz.\n",
    "\n",
    "To summarize: \n",
    "\n",
    "1. Load a Hamiltonian, H.\n",
    "2. Load a circuit template $\\ket{\\psi(\\theta)}$ given a Hamiltonian, H.\n",
    "2. Wrap both the Hamiltonian, H and the circuit template $\\ket{\\psi(\\theta)}$ into a [QNode](https://docs.pennylane.ai/en/stable/code/api/pennylane.QNode.html), to generate an executable function that returns e.g. the expecation value $\\bra{\\psi(\\theta)} H \\ket{\\psi(\\theta)}$.\n",
    "3. Select an optimizer and start minimizing.\n",
    "\n",
    "\n",
    "![VQA](libs/qflow/resources/figures/workflow.png)"
   ]
  },
  {
   "cell_type": "code",
   "execution_count": 1,
   "metadata": {},
   "outputs": [],
   "source": [
    "import numpy as np\n",
    "import pennylane as qml\n",
    "from pennylane import AdamOptimizer, QNGOptimizer, GradientDescentOptimizer\n",
    "from tqdm import tqdm\n",
    "import pennylane.numpy as pnp\n",
    "from dataclasses import dataclass\n",
    "from qflow.utils.utils import get_approximation_ratio\n",
    "import pandas as pd\n",
    "\n",
    "import seaborn as sns\n",
    "import matplotlib.pyplot as plt"
   ]
  },
  {
   "attachments": {},
   "cell_type": "markdown",
   "metadata": {},
   "source": [
    "## Hamiltonians\n",
    "\n",
    "For every variatonal quantum algorithm we need a Hamiltonian. The Hamiltonian is the objective function we want to minimize. In the case of ground state estimation we want to find the ground state of the Hamiltonian."
   ]
  },
  {
   "cell_type": "code",
   "execution_count": 2,
   "metadata": {},
   "outputs": [
    {
     "name": "stdout",
     "output_type": "stream",
     "text": [
      "converged SCF energy = -1.48812651954926\n"
     ]
    }
   ],
   "source": [
    "from qflow.hamiltonian import get_h2o_hamiltonian, get_lih_hamiltonian, get_h4_hamiltonian\n",
    "\n",
    "H, num_qubits, min_energy,_,_ = get_h4_hamiltonian()\n",
    "# H, num_qubits, min_energy,_,_ = get_lih_hamiltonian()\n",
    "# H, num_qubits, min_energy,_,_ = get_h2o_hamiltonian()"
   ]
  },
  {
   "attachments": {},
   "cell_type": "markdown",
   "metadata": {},
   "source": [
    "## Circuit template\n",
    "\n",
    "A circuit template comprises an executable circuit, wires or the number of qubits, and an init() method that returns the parameters to optimize. The init() method can be seeded for reproducibility.\n",
    "\n",
    "For this tutorial, we have selected the MolecularBasicEntangler circuit ansatz as our circuit template. This variational circuit can prepare our trial state $\\ket{\\psi(\\theta)}$."
   ]
  },
  {
   "cell_type": "code",
   "execution_count": 3,
   "metadata": {},
   "outputs": [],
   "source": [
    "from qflow.templates.circuits import MolecularBasicEntangler, MolecularStrongEntangler\n",
    "\n",
    "initial_state = pnp.array([1, 1, 1, 1, 0, 0, 0, 0])\n",
    "\n",
    "circuit = MolecularBasicEntangler(num_layers=1, wires=range(num_qubits), initial_state=initial_state)\n",
    "params = circuit.init()\n"
   ]
  },
  {
   "attachments": {},
   "cell_type": "markdown",
   "metadata": {},
   "source": [
    "## Import preset examples for the Molecular Hamiltonian\n",
    "\n",
    "For convenience, we provide several preset examples in the `qflow.templates.examples` module. These examples include pre-selected circuits and Hamiltonians, which can make it easier to get started with the library. \n",
    "\n",
    "We provide examples for LiH, H2O, H4, QAOA applied to maxcut, etc.\n",
    "\n",
    "For example, you can load the `h4_vqe_basic_entangler_example` example to quickly set up a circuit and Hamiltonian."
   ]
  },
  {
   "cell_type": "code",
   "execution_count": 4,
   "metadata": {},
   "outputs": [
    {
     "name": "stderr",
     "output_type": "stream",
     "text": [
      "/Users/davidfitzek/miniforge3/envs/test/lib/python3.10/site-packages/pennylane/utils.py:67: UserWarning: The method sparse_hamiltonian is deprecated. Please use the method sparse_matrix of the Hamiltonian operator instead.\n",
      "  warnings.warn(\n"
     ]
    }
   ],
   "source": [
    "from qflow.templates.examples import lih_vqe_basic_entangler_example, lih_vqe_strong_entangler_example, h2o_vqe_basic_entangler_example, h2o_vqe_strong_entangler_example, h4_vqe_basic_entangler_example, h4_vqe_strong_entangler_example, maxcut_qaoa_example\n",
    "\n",
    "# circuit, H, min_energy = h4_vqe_basic_entangler_example(num_layers=1)\n",
    "circuit, H, min_energy = maxcut_qaoa_example(num_layers=3, num_nodes=4)\n",
    "\n",
    "params = circuit.init()\n"
   ]
  },
  {
   "cell_type": "code",
   "execution_count": 5,
   "metadata": {},
   "outputs": [
    {
     "name": "stdout",
     "output_type": "stream",
     "text": [
      "0: ──H─╭ApproxTimeEvolution(0.50,0.50,0.50,0.50,0.50,-2.50,2.32)\n",
      "1: ──H─├ApproxTimeEvolution(0.50,0.50,0.50,0.50,0.50,-2.50,2.32)\n",
      "2: ──H─├ApproxTimeEvolution(0.50,0.50,0.50,0.50,0.50,-2.50,2.32)\n",
      "3: ──H─╰ApproxTimeEvolution(0.50,0.50,0.50,0.50,0.50,-2.50,2.32)\n",
      "\n",
      "──╭ApproxTimeEvolution(1.00,1.00,1.00,1.00,2.88)\n",
      "──├ApproxTimeEvolution(1.00,1.00,1.00,1.00,2.88)\n",
      "──├ApproxTimeEvolution(1.00,1.00,1.00,1.00,2.88)\n",
      "──╰ApproxTimeEvolution(1.00,1.00,1.00,1.00,2.88)\n",
      "\n",
      "──╭ApproxTimeEvolution(0.50,0.50,0.50,0.50,0.50,-2.50,1.18)\n",
      "──├ApproxTimeEvolution(0.50,0.50,0.50,0.50,0.50,-2.50,1.18)\n",
      "──├ApproxTimeEvolution(0.50,0.50,0.50,0.50,0.50,-2.50,1.18)\n",
      "──╰ApproxTimeEvolution(0.50,0.50,0.50,0.50,0.50,-2.50,1.18)\n",
      "\n",
      "──╭ApproxTimeEvolution(1.00,1.00,1.00,1.00,0.93)\n",
      "──├ApproxTimeEvolution(1.00,1.00,1.00,1.00,0.93)\n",
      "──├ApproxTimeEvolution(1.00,1.00,1.00,1.00,0.93)\n",
      "──╰ApproxTimeEvolution(1.00,1.00,1.00,1.00,0.93)\n",
      "\n",
      "──╭ApproxTimeEvolution(0.50,0.50,0.50,0.50,0.50,-2.50,4.50)\n",
      "──├ApproxTimeEvolution(0.50,0.50,0.50,0.50,0.50,-2.50,4.50)\n",
      "──├ApproxTimeEvolution(0.50,0.50,0.50,0.50,0.50,-2.50,4.50)\n",
      "──╰ApproxTimeEvolution(0.50,0.50,0.50,0.50,0.50,-2.50,4.50)\n",
      "\n",
      "──╭ApproxTimeEvolution(1.00,1.00,1.00,1.00,2.47)─┤  \n",
      "──├ApproxTimeEvolution(1.00,1.00,1.00,1.00,2.47)─┤  \n",
      "──├ApproxTimeEvolution(1.00,1.00,1.00,1.00,2.47)─┤  \n",
      "──╰ApproxTimeEvolution(1.00,1.00,1.00,1.00,2.47)─┤  \n"
     ]
    }
   ],
   "source": [
    "print(qml.draw(circuit)(params))"
   ]
  },
  {
   "attachments": {},
   "cell_type": "markdown",
   "metadata": {},
   "source": [
    "## Creating a loss function for optimization\n",
    "\n",
    "After setting up the circuit and the Hamiltonian, we need to define a loss function to be optimized during the training process. The objective of the loss function is to calculate the expectation value of a specific observable, such as the Hamiltonian, with respect to the trial state prepared by the circuit. The expectation value is obtained by evaluating the inner product of the trial state and the observable, and is commonly expressed as $\\langle \\psi(\\theta) \\vert H \\vert \\psi(\\theta) \\rangle$."
   ]
  },
  {
   "cell_type": "code",
   "execution_count": 6,
   "metadata": {},
   "outputs": [],
   "source": [
    "dev = qml.device(\"default.qubit\", wires=circuit.wires)\n",
    "\n",
    "\n",
    "@qml.qnode(dev)\n",
    "def loss_fn(params):\n",
    "    circuit(params)\n",
    "    return qml.expval(H)"
   ]
  },
  {
   "attachments": {},
   "cell_type": "markdown",
   "metadata": {},
   "source": [
    "## Optimizing the circuit\n",
    "\n",
    "Let's optimize the circuit! To do this, we need to create a loop that iterates between the classical optimizer and the quantum circuit. We'll define some variables to track our progress along the way."
   ]
  },
  {
   "cell_type": "code",
   "execution_count": 7,
   "metadata": {},
   "outputs": [],
   "source": [
    "stepsize= 0.05\n",
    "steps = 100\n",
    "seed = 0"
   ]
  },
  {
   "cell_type": "code",
   "execution_count": 8,
   "metadata": {},
   "outputs": [],
   "source": [
    "@dataclass\n",
    "class Datapoint:\n",
    "    step: int\n",
    "    exp_val: float\n",
    "    optimizer: str"
   ]
  },
  {
   "cell_type": "code",
   "execution_count": 9,
   "metadata": {},
   "outputs": [],
   "source": [
    "list_optimizer = [\n",
    "    GradientDescentOptimizer(stepsize=stepsize),\n",
    "    AdamOptimizer(stepsize=stepsize),\n",
    "    QNGOptimizer(stepsize=stepsize),\n",
    "]"
   ]
  },
  {
   "cell_type": "code",
   "execution_count": 10,
   "metadata": {},
   "outputs": [
    {
     "name": "stdout",
     "output_type": "stream",
     "text": [
      "GradientDescentOptimizer\n"
     ]
    },
    {
     "name": "stderr",
     "output_type": "stream",
     "text": [
      "100%|██████████| 101/101 [00:02<00:00, 50.43it/s]\n"
     ]
    },
    {
     "name": "stdout",
     "output_type": "stream",
     "text": [
      "AdamOptimizer\n"
     ]
    },
    {
     "name": "stderr",
     "output_type": "stream",
     "text": [
      "100%|██████████| 101/101 [00:01<00:00, 52.01it/s]\n"
     ]
    },
    {
     "name": "stdout",
     "output_type": "stream",
     "text": [
      "QNGOptimizer\n"
     ]
    },
    {
     "name": "stderr",
     "output_type": "stream",
     "text": [
      "100%|██████████| 101/101 [00:09<00:00, 10.44it/s]\n"
     ]
    }
   ],
   "source": [
    "dataset = []\n",
    "for optimizer in list_optimizer:\n",
    "    optimizer_id = optimizer.__class__.__name__\n",
    "    print(optimizer_id)\n",
    "    params = circuit.init(seed)\n",
    "\n",
    "    for k in tqdm(range(0, steps + 1)):\n",
    "        params, exp_val = optimizer.step_and_cost(loss_fn, params)\n",
    "        dataset.append(Datapoint(k, np.real(exp_val), optimizer_id))\n",
    "\n",
    "    del optimizer\n"
   ]
  },
  {
   "cell_type": "code",
   "execution_count": 11,
   "metadata": {},
   "outputs": [
    {
     "name": "stdout",
     "output_type": "stream",
     "text": [
      "Approximation ratio: (0.949-0j)\n"
     ]
    }
   ],
   "source": [
    "r = get_approximation_ratio(exp_val, min_energy, 0)\n",
    "print(f\"Approximation ratio: {np.round(r, 3)}\")"
   ]
  },
  {
   "cell_type": "code",
   "execution_count": 12,
   "metadata": {},
   "outputs": [],
   "source": [
    "df = pd.DataFrame(\n",
    "    columns=[\n",
    "        \"step\",\n",
    "        \"exp_val\",\n",
    "        \"optimizer\",\n",
    "    ]\n",
    ")\n",
    "\n",
    "df = pd.DataFrame([x.__dict__ for x in dataset])\n",
    "df[\"exp_val\"] = df[\"exp_val\"].astype(float) "
   ]
  },
  {
   "cell_type": "code",
   "execution_count": 13,
   "metadata": {},
   "outputs": [
    {
     "name": "stderr",
     "output_type": "stream",
     "text": [
      "/Users/davidfitzek/miniforge3/envs/test/lib/python3.10/site-packages/matplotlib/cbook/__init__.py:1335: ComplexWarning: Casting complex values to real discards the imaginary part\n",
      "  return np.asarray(x, float)\n"
     ]
    },
    {
     "data": {
      "text/plain": [
       "<matplotlib.lines.Line2D at 0x28a869ff0>"
      ]
     },
     "execution_count": 13,
     "metadata": {},
     "output_type": "execute_result"
    },
    {
     "data": {
      "image/png": "[encoded data removed]",
      "text/plain": [
       "<Figure size 1000x600 with 1 Axes>"
      ]
     },
     "metadata": {},
     "output_type": "display_data"
    }
   ],
   "source": [
    "fig, ax = plt.subplots(figsize=(10, 6))\n",
    "sns.set_style(\"white\")\n",
    "\n",
    "g = sns.lineplot(\n",
    "    x=\"step\",\n",
    "    y=\"exp_val\",\n",
    "    hue=\"optimizer\",\n",
    "    data=df,\n",
    "    ax=ax,\n",
    ")\n",
    "\n",
    "ax.axhline(y=min_energy, color=\"black\", linestyle=\"--\", label=\"Ground state\")"
   ]
  },
  {
   "attachments": {},
   "cell_type": "markdown",
   "metadata": {},
   "source": [
    "## Conclusion \n",
    "\n",
    "In this tutorial, we have demonstrated the basic workflow of optimizing a variational quantum circuit to estimate the ground state energy of a molecular Hamiltonian. We loaded the Hamiltonian, selected a quantum circuit ansatz, and wrapped it into a QNode to calculate the energy of the system. We then optimized the circuit parameters using various gradient-based  optimization methods."
   ]
  }
 ],
 "metadata": {
  "kernelspec": {
   "display_name": "Python 3.10.6 ('qflow')",
   "language": "python",
   "name": "python3"
  },
  "language_info": {
   "codemirror_mode": {
    "name": "ipython",
    "version": 3
   },
   "file_extension": ".py",
   "mimetype": "text/x-python",
   "name": "python",
   "nbconvert_exporter": "python",
   "pygments_lexer": "ipython3",
   "version": "3.10.8"
  },
  "orig_nbformat": 4,
  "vscode": {
   "interpreter": {
    "hash": "23a1192c541ab84f6bb8596ddf275e4ffe2afe306cc45b2153ee66ad959326f6"
   }
  }
 },
 "nbformat": 4,
 "nbformat_minor": 2
}
