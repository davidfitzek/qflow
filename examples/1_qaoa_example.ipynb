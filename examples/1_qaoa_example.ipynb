{
 "cells": [
  {
   "attachments": {},
   "cell_type": "markdown",
   "metadata": {},
   "source": [
    "## The Quantum Alternating Operator Ansatz (QAOA) for the MaxCut problem\n",
    "\n",
    "The Quantum Alternating Operator Ansatz (QAOA) is a quantum algorithm designed for solving combinatorial optimization problems. We start by describing the MaxCut problem, and then show how to use QAOA to solve it."
   ]
  },
  {
   "cell_type": "code",
   "execution_count": 143,
   "metadata": {},
   "outputs": [
    {
     "name": "stdout",
     "output_type": "stream",
     "text": [
      "The autoreload extension is already loaded. To reload it, use:\n",
      "  %reload_ext autoreload\n"
     ]
    }
   ],
   "source": [
    "import numpy as np \n",
    "from qflow.templates.circuits import QAOACircuit\n",
    "from qflow.templates.examples.maxcut_circuit import maxcut_qaoa_example\n",
    "import pennylane as qml\n",
    "\n",
    "from tqdm import tqdm\n",
    "from dataclasses import dataclass\n",
    "from qflow.utils.maxcut_utils import get_maxcut_graph\n",
    "from pennylane import AdamOptimizer\n",
    "import pandas as pd\n",
    "\n",
    "import matplotlib.pyplot as plt\n",
    "import seaborn as sns\n",
    "from qflow.utils.utils import get_approximation_ratio\n",
    "import algorithmx\n",
    "from qflow.utils.utils import get_all_spinstrings\n",
    "from qflow.utils.maxcut_utils import get_maxcut_costs, visualize_maxcut_graph\n",
    "import warnings\n",
    "warnings.filterwarnings('ignore')\n",
    "%load_ext autoreload\n",
    "%autoreload 2\n",
    "%matplotlib inline"
   ]
  },
  {
   "attachments": {},
   "cell_type": "markdown",
   "metadata": {},
   "source": [
    "### The MaxCut problem\n",
    "\n",
    "The MaxCut problem is a combinatorial optimization problem that asks us to find a cut of a graph that maximizes the number of edges that are \"cut\" by the cut. A cut of a graph is a partition of the nodes of the graph into two sets. The MaxCut problem is defined as follows:\n",
    "\n",
    "Given a graph $G = (V, E)$, find a cut $S$ of the graph that maximizes the number of edges that are cut by the cut, i.e., the number of edges $(i, j)$ such that $i \\in S$ and $j \\notin S$.\n",
    "\n",
    "Let us generate a random graph to illustrate the MaxCut problem. We will use the `networkx` package to generate a random graph. We will then use the `algorithmx` package to visualize the graph including the optimal solution."
   ]
  },
  {
   "cell_type": "code",
   "execution_count": 164,
   "metadata": {},
   "outputs": [],
   "source": [
    "num_nodes = 6\n",
    "seed =0\n",
    "\n",
    "graph = get_maxcut_graph(num_nodes, seed=seed)\n",
    "H, _ = qml.qaoa.maxcut(graph)\n",
    "num_qubits = len(H.wires)"
   ]
  },
  {
   "cell_type": "code",
   "execution_count": 165,
   "metadata": {},
   "outputs": [
    {
     "name": "stdout",
     "output_type": "stream",
     "text": [
      " index max: (array([11, 52]),) \n",
      " max cut: -9.0 \n",
      " solution bitstring: \n",
      " [[[ 1  1 -1  1 -1 -1]\n",
      "  [-1 -1  1 -1  1  1]]] \n",
      "\n"
     ]
    },
    {
     "data": {
      "application/vnd.jupyter.widget-view+json": {
       "model_id": "0172ab63432f4d13bf0119a5108ff1ec",
       "version_major": 2,
       "version_minor": 0
      },
      "text/plain": [
       "JupyterWidget(events=['{\"attrs\": {\"nodes\": {\"0\": {}, \"1\": {}, \"2\": {}, \"3\": {}, \"4\": {}, \"5\": {}}}}', '{\"attrs…"
      ]
     },
     "metadata": {},
     "output_type": "display_data"
    }
   ],
   "source": [
    "\n",
    "costs= get_maxcut_costs(graph)\n",
    "index_min = np.where(costs == costs.min())\n",
    "min_energy = np.min(costs)\n",
    "all_bitstrings = get_all_spinstrings(num_qubits)\n",
    "best_bitstrings = all_bitstrings[index_min, :]\n",
    "\n",
    "print(\n",
    "    \" index max: {} \\n max cut: {} \\n solution bitstring: \\n {} \\n\".format(\n",
    "        index_min, min_energy, best_bitstrings\n",
    "    )\n",
    ")\n",
    "best_bitstring = best_bitstrings[0, 0, :]\n",
    "visualize_maxcut_graph(graph, best_bitstring)\n"
   ]
  },
  {
   "attachments": {},
   "cell_type": "markdown",
   "metadata": {},
   "source": [
    "## Vanilla QAOA\n",
    "\n",
    "Let us now implement the Quantum approximate optimization algorithm introduced by [Farhi et al.](https://arxiv.org/abs/1411.4028). We initialize the circuit in the plus state $\\left|+\\right\\rangle = \\frac{1}{\\sqrt{2}}\\left(\\left|0\\right\\rangle + \\left|1\\right\\rangle\\right)$, and apply the following circuit:\n",
    "\n",
    "$$\n",
    "\\begin{align}\n",
    "    \\ket{\\boldsymbol{\\gamma, \\beta}} = U( \\beta_p) U(\\gamma_p) \\dots U(\\beta_1) U( \\gamma_1) \\ket{+}^{\\otimes n}.\n",
    "\\end{align}\n",
    "$$\n",
    "where $U(\\gamma)$ is the unitary operator defined by\n",
    "$$\n",
    "\\begin{align}\n",
    "    U(\\gamma) = e^{-i \\gamma H_C},\n",
    "\\end{align}\n",
    "$$\n",
    "and $U(\\beta)$ is the unitary operator defined by\n",
    "$$\n",
    "\\begin{align}\n",
    "    U(\\beta) = e^{-i \\beta H_M},\n",
    "\\end{align}\n",
    "$$\n",
    "where $H_M$ and $H_C$ are the mixing and the cost Hamiltonians, respectively. The mixing Hamiltonian is defined as\n",
    "$$\n",
    "\\begin{align}\n",
    "    H_M = \\sum_{i=1}^n \\sigma_x^i,\n",
    "\\end{align}\n",
    "$$\n",
    "and the cost Hamiltonian is defined as\n",
    "$$\n",
    "\\begin{equation}\n",
    "    H_C = \\sum_{(i,j)\\in E} \\frac{1}{2}(1 - \\sigma_z^i \\sigma_z^j),\n",
    "\\end{equation}\n",
    "$$\n",
    "where $E$ is the set of edges in the graph, and $\\sigma_z^i$ is the Pauli-Z operator applied to the $i$-th qubit.\n",
    "\n"
   ]
  },
  {
   "cell_type": "code",
   "execution_count": 166,
   "metadata": {},
   "outputs": [],
   "source": [
    "from qflow.templates.circuits import QAOACircuit\n",
    "from qflow.templates.state_preparation import Plus\n",
    "from qflow.qaoa.mixer_h import x_mixer\n",
    "\n",
    "circuit = QAOACircuit(H, initial_state=Plus(num_qubits), mixer_h=x_mixer(num_qubits), num_layers=6)\n",
    "params = circuit.init()"
   ]
  },
  {
   "cell_type": "code",
   "execution_count": 147,
   "metadata": {},
   "outputs": [],
   "source": [
    "# print(qml.draw(circuit)(params))"
   ]
  },
  {
   "cell_type": "code",
   "execution_count": 148,
   "metadata": {},
   "outputs": [],
   "source": [
    "stepsize= 0.05\n",
    "steps = 200\n",
    "seed = 0"
   ]
  },
  {
   "cell_type": "code",
   "execution_count": 149,
   "metadata": {},
   "outputs": [],
   "source": [
    "dev = qml.device(\"default.qubit\", wires=circuit.wires)\n",
    "\n",
    "\n",
    "@qml.qnode(dev)\n",
    "def loss_fn(params):\n",
    "    circuit(params)\n",
    "    return qml.expval(H)\n"
   ]
  },
  {
   "cell_type": "code",
   "execution_count": 150,
   "metadata": {},
   "outputs": [],
   "source": [
    "@dataclass\n",
    "class Datapoint:\n",
    "    step: int\n",
    "    exp_val: float\n",
    "    optimizer: str"
   ]
  },
  {
   "cell_type": "code",
   "execution_count": 151,
   "metadata": {},
   "outputs": [],
   "source": [
    "optimizer = AdamOptimizer(stepsize=stepsize)"
   ]
  },
  {
   "cell_type": "code",
   "execution_count": 152,
   "metadata": {},
   "outputs": [
    {
     "name": "stdout",
     "output_type": "stream",
     "text": [
      "AdamOptimizer\n"
     ]
    },
    {
     "name": "stderr",
     "output_type": "stream",
     "text": [
      "100%|██████████| 201/201 [00:14<00:00, 14.19it/s]\n"
     ]
    }
   ],
   "source": [
    "dataset = []\n",
    "optimizer_id = optimizer.__class__.__name__\n",
    "print(optimizer_id)\n",
    "params = circuit.init(seed)\n",
    "\n",
    "for k in tqdm(range(0, steps + 1)):\n",
    "    params, exp_val = optimizer.step_and_cost(loss_fn, params)\n",
    "    dataset.append(Datapoint(k, np.real(exp_val), optimizer_id))\n",
    "\n",
    "del optimizer"
   ]
  },
  {
   "cell_type": "code",
   "execution_count": 153,
   "metadata": {},
   "outputs": [],
   "source": [
    "\n",
    "df = pd.DataFrame(columns=[\"step\", \"exp_val\", \"optimizer\"])\n",
    "df = pd.DataFrame([x.__dict__ for x in dataset])\n",
    "df[\"exp_val\"] = df[\"exp_val\"].astype(float) "
   ]
  },
  {
   "cell_type": "code",
   "execution_count": 154,
   "metadata": {},
   "outputs": [
    {
     "data": {
      "text/plain": [
       "<matplotlib.lines.Line2D at 0x29a0d24d0>"
      ]
     },
     "execution_count": 154,
     "metadata": {},
     "output_type": "execute_result"
    },
    {
     "data": {
      "image/png": "[encoded data removed]",
      "text/plain": [
       "<Figure size 1000x600 with 1 Axes>"
      ]
     },
     "metadata": {},
     "output_type": "display_data"
    }
   ],
   "source": [
    "fig, ax = plt.subplots(figsize=(10, 6))\n",
    "sns.set_style(\"white\")\n",
    "\n",
    "g = sns.lineplot(\n",
    "    x=\"step\",\n",
    "    y=\"exp_val\",\n",
    "    hue=\"optimizer\",\n",
    "    data=df,\n",
    "    ax=ax,\n",
    ")\n",
    "\n",
    "ax.axhline(y=min_energy, color=\"black\", linestyle=\"--\", label=\"Ground state\")"
   ]
  },
  {
   "cell_type": "markdown",
   "metadata": {},
   "source": []
  },
  {
   "attachments": {},
   "cell_type": "markdown",
   "metadata": {},
   "source": [
    "## XY-mixer QAOA \n",
    "\n",
    "Next, let us have a look at the [XY-mixer QAOA](https://arxiv.org/abs/1904.09314). The XY-mixer QAOA is a variant of the QAOA algorithm that uses the following mixing Hamiltonian:\n",
    "\n",
    "$$\n",
    "\\begin{align}\n",
    "H_M  =  \\frac{1}{2} \\sum_{(i, j) \\in E(G)} \\sigma_x^i \\sigma_x^j \\ + \\ \\sigma_y^i \\sigma_y^j,\n",
    "\\end{align}\n",
    "$$\n",
    "\n",
    "The XY-mixer QAOA is implemented by replacing the mixing Hamiltonian in the QAOA circuit with the above Hamiltonian. We also need to adapt the initial state. Here we focus on the [Dicke state](https://arxiv.org/abs/1904.07358), an equal-weight superposition of all n-qubit states with Hamming Weight k (i.e. all strings of length n with exactly k ones over a binary alphabet). "
   ]
  },
  {
   "cell_type": "code",
   "execution_count": 155,
   "metadata": {},
   "outputs": [],
   "source": [
    "from qflow.qaoa.mixer_h import circular_xy_mixer\n",
    "from qflow.templates.state_preparation import DickeState\n",
    "\n",
    "circuit = QAOACircuit(\n",
    "    H,\n",
    "    initial_state=DickeState(num_qubits, 3),\n",
    "    mixer_h=circular_xy_mixer(num_qubits),\n",
    "    num_layers=4,\n",
    ")\n",
    "\n",
    "params = circuit.init()"
   ]
  },
  {
   "cell_type": "code",
   "execution_count": 156,
   "metadata": {},
   "outputs": [],
   "source": [
    "optimizer = AdamOptimizer(stepsize=stepsize)"
   ]
  },
  {
   "cell_type": "code",
   "execution_count": 157,
   "metadata": {},
   "outputs": [
    {
     "name": "stdout",
     "output_type": "stream",
     "text": [
      "AdamOptimizer\n"
     ]
    },
    {
     "name": "stderr",
     "output_type": "stream",
     "text": [
      "100%|██████████| 201/201 [00:13<00:00, 15.41it/s]\n"
     ]
    }
   ],
   "source": [
    "dataset = []\n",
    "optimizer_id = optimizer.__class__.__name__\n",
    "print(optimizer_id)\n",
    "params = circuit.init(seed)\n",
    "\n",
    "for k in tqdm(range(0, steps + 1)):\n",
    "    params, exp_val = optimizer.step_and_cost(loss_fn, params)\n",
    "    dataset.append(Datapoint(k, np.real(exp_val), optimizer_id))\n",
    "\n",
    "del optimizer\n"
   ]
  },
  {
   "cell_type": "code",
   "execution_count": 158,
   "metadata": {},
   "outputs": [
    {
     "name": "stdout",
     "output_type": "stream",
     "text": [
      "Approximation ratio: 0.98\n"
     ]
    }
   ],
   "source": [
    "r = get_approximation_ratio(exp_val, min_energy, 0)\n",
    "print(f\"Approximation ratio: {np.round(r, 3)}\")"
   ]
  },
  {
   "cell_type": "code",
   "execution_count": 159,
   "metadata": {},
   "outputs": [],
   "source": [
    "df = pd.DataFrame(columns=[\"step\", \"exp_val\", \"optimizer\"])\n",
    "df = pd.DataFrame([x.__dict__ for x in dataset])\n",
    "df[\"exp_val\"] = df[\"exp_val\"].astype(float) "
   ]
  },
  {
   "cell_type": "code",
   "execution_count": 160,
   "metadata": {},
   "outputs": [
    {
     "data": {
      "text/plain": [
       "<matplotlib.lines.Line2D at 0x299ad00a0>"
      ]
     },
     "execution_count": 160,
     "metadata": {},
     "output_type": "execute_result"
    },
    {
     "data": {
      "image/png": "[encoded data removed]",
      "text/plain": [
       "<Figure size 1000x600 with 1 Axes>"
      ]
     },
     "metadata": {},
     "output_type": "display_data"
    }
   ],
   "source": [
    "fig, ax = plt.subplots(figsize=(10, 6))\n",
    "sns.set_style(\"white\")\n",
    "\n",
    "g = sns.lineplot(\n",
    "    x=\"step\",\n",
    "    y=\"exp_val\",\n",
    "    hue=\"optimizer\",\n",
    "    data=df,\n",
    "    ax=ax,\n",
    ")\n",
    "\n",
    "ax.axhline(y=min_energy, color=\"black\", linestyle=\"--\", label=\"Ground state\")"
   ]
  },
  {
   "attachments": {},
   "cell_type": "markdown",
   "metadata": {},
   "source": [
    "## Conclusion\n",
    "\n",
    "In this notebook, we have introduced the MaxCut problem and the QAOA algorithm. We have also shown how to use QAOA to solve the MaxCut problem. We have also introduced the XY-mixer QAOA, a variant of the QAOA algorithm that uses the XY-mixer Hamiltonian.\n"
   ]
  },
  {
   "cell_type": "code",
   "execution_count": null,
   "metadata": {},
   "outputs": [],
   "source": []
  }
 ],
 "metadata": {
  "kernelspec": {
   "display_name": "test",
   "language": "python",
   "name": "python3"
  },
  "language_info": {
   "codemirror_mode": {
    "name": "ipython",
    "version": 3
   },
   "file_extension": ".py",
   "mimetype": "text/x-python",
   "name": "python",
   "nbconvert_exporter": "python",
   "pygments_lexer": "ipython3",
   "version": "3.10.10"
  },
  "orig_nbformat": 4
 },
 "nbformat": 4,
 "nbformat_minor": 2
}
